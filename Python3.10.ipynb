{
 "cells": [
  {
   "cell_type": "markdown",
   "id": "1a339f7e",
   "metadata": {},
   "source": [
    "# Python 3.10 Highlights\n",
    "see https://docs.python.org/3.12/whatsnew/3.10.html"
   ]
  },
  {
   "cell_type": "markdown",
   "id": "761670a2",
   "metadata": {},
   "source": [
    "## PEP's"
   ]
  },
  {
   "cell_type": "markdown",
   "id": "56d29a9c",
   "metadata": {},
   "source": [
    "### PEP 613 [link](https://peps.python.org/pep-0613/)\n",
    "Type Aliases, that indicates the type of variables eg. ina function call, which avoid check in place of functions"
   ]
  },
  {
   "cell_type": "markdown",
   "id": "ab7f51eb",
   "metadata": {},
   "source": [
    "```\n",
    "x: int = 1 #typed global expression\n",
    "\n",
    "x: TypeAlias = int # type alias\n",
    "y: TypeAlias = \"MyClass\" # type alias\n",
    "\n",
    "MyTeyp: TypeAlias = \"ClassName\"\n",
    "def foo() -> MyType: ..\n",
    "```"
   ]
  },
  {
   "cell_type": "markdown",
   "id": "2bab67ba",
   "metadata": {},
   "source": [
    "### PEP 604: New Type Union Operator [link](https://peps.python.org/pep-0604/)"
   ]
  },
  {
   "cell_type": "markdown",
   "id": "1ee731aa",
   "metadata": {},
   "source": [
    "A new type union operator was introduced which enables the syntax `X | Y`. With this new operator, it is possible to write `int | str` instead of `Union[int, str]`."
   ]
  },
  {
   "cell_type": "markdown",
   "id": "3bfdf18d",
   "metadata": {},
   "source": [
    "### PEP 618: Optional Zip Length Check [link](https://peps.python.org/pep-0613/#error-messaging)"
   ]
  },
  {
   "cell_type": "code",
   "execution_count": 21,
   "id": "2216018b",
   "metadata": {},
   "outputs": [
    {
     "data": {
      "text/plain": [
       "[(1, 1), (2, 2), (3, 3)]"
      ]
     },
     "execution_count": 21,
     "metadata": {},
     "output_type": "execute_result"
    }
   ],
   "source": [
    "x = [1,2,3,4]\n",
    "y = [1,2,3]\n",
    "list(zip(x,y))"
   ]
  },
  {
   "cell_type": "code",
   "execution_count": 22,
   "id": "5950cd7e",
   "metadata": {},
   "outputs": [
    {
     "ename": "ValueError",
     "evalue": "zip() argument 2 is shorter than argument 1",
     "output_type": "error",
     "traceback": [
      "\u001b[0;31m---------------------------------------------------------------------------\u001b[0m",
      "\u001b[0;31mValueError\u001b[0m                                Traceback (most recent call last)",
      "Input \u001b[0;32mIn [22]\u001b[0m, in \u001b[0;36m<cell line: 1>\u001b[0;34m()\u001b[0m\n\u001b[0;32m----> 1\u001b[0m \u001b[38;5;28;43mlist\u001b[39;49m\u001b[43m(\u001b[49m\u001b[38;5;28;43mzip\u001b[39;49m\u001b[43m(\u001b[49m\u001b[43mx\u001b[49m\u001b[43m,\u001b[49m\u001b[43my\u001b[49m\u001b[43m,\u001b[49m\u001b[43mstrict\u001b[49m\u001b[38;5;241;43m=\u001b[39;49m\u001b[38;5;28;43;01mTrue\u001b[39;49;00m\u001b[43m)\u001b[49m\u001b[43m)\u001b[49m\n",
      "\u001b[0;31mValueError\u001b[0m: zip() argument 2 is shorter than argument 1"
     ]
    }
   ],
   "source": [
    "list(zip(x,y,strict=True))"
   ]
  },
  {
   "cell_type": "markdown",
   "id": "f03ee674",
   "metadata": {},
   "source": [
    "## Enhacements"
   ]
  },
  {
   "cell_type": "markdown",
   "id": "110b63b5",
   "metadata": {},
   "source": [
    "### File Context Manager\n",
    "During the context the file is open and it close in the final of context, without the need of close of file."
   ]
  },
  {
   "cell_type": "code",
   "execution_count": 25,
   "id": "c8f866e1",
   "metadata": {},
   "outputs": [],
   "source": [
    "with open('file.txt','w') as opened_file:\n",
    "    opened_file.write('Hello')"
   ]
  },
  {
   "cell_type": "markdown",
   "id": "b722e24a",
   "metadata": {},
   "source": [
    "### Error messages\n",
    "\n",
    "- Indentation errors\n",
    "- Name errors, typo name of classes/variables/etc\n",
    "- Unparenthesize tuples and multiple exception types\n",
    "- Use of = insteadof -- in logical comparisons\n",
    "- *try* blocks without *except* or *finally*\n",
    "- Use of *** in f-strings\n"
   ]
  },
  {
   "cell_type": "markdown",
   "id": "1890e4de",
   "metadata": {},
   "source": [
    "### Type Hints"
   ]
  },
  {
   "cell_type": "markdown",
   "id": "d2576e86",
   "metadata": {},
   "source": [
    "Tips of usage of :"
   ]
  },
  {
   "cell_type": "code",
   "execution_count": 27,
   "id": "9d860bc4",
   "metadata": {},
   "outputs": [],
   "source": [
    "## type definition\n",
    "def foo(a:int , b:str) -> bool:\n",
    "    t: bool = True\n",
    "    return t\n",
    "\n",
    "## Union type\n",
    "def square(number: int | float) -> int | float:\n",
    "    return number * number\n"
   ]
  },
  {
   "cell_type": "markdown",
   "id": "112c5d48",
   "metadata": {},
   "source": [
    "#### TypeGuard [link](https://docs.python.org/3.12/whatsnew/3.10.html#pep-647-user-defined-type-guards)\n",
    "This is a way to check if a instance is the waited type, eg:\n",
    "```\n",
    "from typing import TypeGuard\n",
    "def is_str_list(val: List[Object]) -> TypeGuard[List[str]]:\n",
    "    # That should check each element is if a string\n",
    "    return all(isinstance(x,str) for x in val)\n",
    "```\n",
    "* rembering that `all()` check if the all itens in the list are valid."
   ]
  },
  {
   "cell_type": "markdown",
   "id": "d6b0dda1",
   "metadata": {},
   "source": [
    "### Pattern Matching updates"
   ]
  },
  {
   "cell_type": "markdown",
   "id": "53712116",
   "metadata": {},
   "source": [
    "mach/case accepts variables and if staments, eg:\n",
    "```\n",
    "match point:\n",
    "  case Point(x,y) if x == y:\n",
    "    print(\"Matched\")\n",
    "  case Point(x,y):\n",
    "    print(\"Single point\")\n",
    "```"
   ]
  },
  {
   "cell_type": "code",
   "execution_count": null,
   "id": "14df91e8",
   "metadata": {},
   "outputs": [],
   "source": []
  }
 ],
 "metadata": {
  "kernelspec": {
   "display_name": "Python 3 (ipykernel)",
   "language": "python",
   "name": "python3"
  },
  "language_info": {
   "codemirror_mode": {
    "name": "ipython",
    "version": 3
   },
   "file_extension": ".py",
   "mimetype": "text/x-python",
   "name": "python",
   "nbconvert_exporter": "python",
   "pygments_lexer": "ipython3",
   "version": "3.10.6"
  }
 },
 "nbformat": 4,
 "nbformat_minor": 5
}
